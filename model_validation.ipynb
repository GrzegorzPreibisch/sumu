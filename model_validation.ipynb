{
 "cells": [
  {
   "cell_type": "code",
   "execution_count": 13,
   "metadata": {},
   "outputs": [],
   "source": [
    "import pandas as pd\n",
    "import numpy as np\n",
    "import sumu\n",
    "import pandas as pd\n",
    "import numpy as np\n",
    "from glmnet import ElasticNet\n",
    "import random\n",
    "import time\n",
    "import random"
   ]
  },
  {
   "cell_type": "code",
   "execution_count": 26,
   "metadata": {},
   "outputs": [],
   "source": [
    "def generate_dataset_and_dag(dim,number, deg):\n",
    "    dictionary = {}\n",
    "    for x in range(1,dim+1):\n",
    "        dictionary[x] = np.random.normal(0,1,number)\n",
    "    df = pd.DataFrame(dictionary)\n",
    "    possible_children =set(range(1,dim+1))\n",
    "    possible_parents =set()\n",
    "    root = random.sample(possible_children, k=1)[0]\n",
    "    possible_children.remove(root)\n",
    "    possible_parents.add(root)\n",
    "    dag = dict()\n",
    "    for x in range(1,dim+1):\n",
    "        dag[x]=[]\n",
    "    for x in range(1,dim):\n",
    "        if len(possible_children) !=0:\n",
    "            new_children = list(set(random.choices(list(possible_children), k=deg)))\n",
    "        else:\n",
    "            break\n",
    "        their_parent = random.sample(possible_parents, k=1)[0]\n",
    "        relations = list()\n",
    "        for child in new_children:\n",
    "            possible_parents.add(child)\n",
    "            possible_children.remove(child)\n",
    "            rand_weight = random.random()\n",
    "            df[child] = df[their_parent]*rand_weight\n",
    "            relations.append((child,rand_weight))\n",
    "        dag[their_parent]+=relations\n",
    "    \n",
    "    return np.array(df),dag\n",
    "        \n",
    "        \n",
    "arr1, dag1 = generate_dataset_and_dag(5,100000,2)        "
   ]
  },
  {
   "cell_type": "code",
   "execution_count": 27,
   "metadata": {},
   "outputs": [
    {
     "name": "stdout",
     "output_type": "stream",
     "text": [
      "{1: [], 2: [(1, 0.9021331914901047)], 3: [(4, 0.6575118506823157)], 4: [], 5: [(2, 0.4124263913430325), (3, 0.2928343189593734)]}\n"
     ]
    }
   ],
   "source": [
    "print(dag1)"
   ]
  },
  {
   "cell_type": "code",
   "execution_count": null,
   "metadata": {},
   "outputs": [],
   "source": [
    "start = time.time()\n",
    "data = sumu.Data(arr1, discrete=False)\n",
    "params = {\n",
    "\n",
    "          \"array\": arr1,\n",
    "          \"data\": data,\n",
    "          \"scoref\": \"bge\",  # Or \"bdeu\" for discrete data.\n",
    "          # \"ess\": 10,        # If using BDeu.\n",
    "          \"max_id\": -1,\n",
    "          \"K\": 2,\n",
    "          \"d\": 2,\n",
    "          \"cp_algo\": \"greedy-lite\",\n",
    "          \"mc3_chains\": 10,\n",
    "          \"burn_in\": 100,\n",
    "          \"iterations\": 10000,\n",
    "          \"thinning\": 10}\n",
    "\n",
    "g = sumu.Gadget(**params)\n",
    "dag = g.sample()\n",
    "end = time.time()\n",
    "print(dag)\n",
    "print(dag1)\n",
    "print(end - start)\n"
   ]
  },
  {
   "cell_type": "code",
   "execution_count": null,
   "metadata": {},
   "outputs": [],
   "source": [
    "for x in dag:\n",
    "    if x in dag1:\n",
    "        print('______',x)\n",
    "        print(dag1[x])\n",
    "        print(dag[x])\n",
    "    "
   ]
  },
  {
   "cell_type": "code",
   "execution_count": null,
   "metadata": {},
   "outputs": [],
   "source": []
  }
 ],
 "metadata": {
  "kernelspec": {
   "display_name": "Python 3",
   "language": "python",
   "name": "python3"
  },
  "language_info": {
   "codemirror_mode": {
    "name": "ipython",
    "version": 3
   },
   "file_extension": ".py",
   "mimetype": "text/x-python",
   "name": "python",
   "nbconvert_exporter": "python",
   "pygments_lexer": "ipython3",
   "version": "3.6.9"
  }
 },
 "nbformat": 4,
 "nbformat_minor": 4
}
