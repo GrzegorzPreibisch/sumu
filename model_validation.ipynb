{
 "cells": [
  {
   "cell_type": "code",
   "execution_count": 1,
   "metadata": {},
   "outputs": [
    {
     "name": "stderr",
     "output_type": "stream",
     "text": [
      "/home/blazej/.local/lib/python3.6/site-packages/sklearn/externals/joblib/__init__.py:15: FutureWarning: sklearn.externals.joblib is deprecated in 0.21 and will be removed in 0.23. Please import this functionality directly from joblib, which can be installed with: pip install joblib. If this warning is raised when loading pickled models, you may need to re-serialize those models with scikit-learn 0.21+.\n",
      "  warnings.warn(msg, category=FutureWarning)\n",
      "/home/blazej/.local/lib/python3.6/site-packages/sklearn/externals/six.py:31: FutureWarning: The module is deprecated in version 0.21 and will be removed in version 0.23 since we've dropped support for Python 2.7. Please rely on the official version of six (https://pypi.org/project/six/).\n",
      "  \"(https://pypi.org/project/six/).\", FutureWarning)\n"
     ]
    }
   ],
   "source": [
    "import pandas as pd\n",
    "import numpy as np\n",
    "import sumu\n",
    "import pandas as pd\n",
    "import numpy as np\n",
    "from glmnet import ElasticNet\n",
    "import random\n",
    "import time\n",
    "import random"
   ]
  },
  {
   "cell_type": "code",
   "execution_count": 10,
   "metadata": {},
   "outputs": [],
   "source": [
    "def generate_dataset_and_dag(dim,number, deg):\n",
    "    dictionary = {}\n",
    "    for x in range(1,dim+1):\n",
    "        dictionary[x] = np.random.normal(0,1,number)\n",
    "    df = pd.DataFrame(dictionary)\n",
    "    possible_children =set(range(1,dim+1))\n",
    "    possible_parents =set()\n",
    "    root = random.sample(possible_children, k=1)[0]\n",
    "    possible_children.remove(root)\n",
    "    possible_parents.add(root)\n",
    "    dag = dict()\n",
    "    for x in range(1,dim+1):\n",
    "        dag[x]=[]\n",
    "    for x in range(1,dim):\n",
    "        if len(possible_children) !=0:\n",
    "            new_children = list(set(random.choices(list(possible_children), k=deg)))\n",
    "        else:\n",
    "            break\n",
    "        their_parent = random.sample(possible_parents, k=1)[0]\n",
    "        relations = list()\n",
    "        for child in new_children:\n",
    "            possible_parents.add(child)\n",
    "            possible_children.remove(child)\n",
    "            rand_weight = random.random()\n",
    "            df[child] = df[their_parent]*rand_weight\n",
    "            relations.append((child,rand_weight))\n",
    "        dag[their_parent]+=relations\n",
    "    \n",
    "    return np.array(df),dag\n",
    "        \n",
    "        \n",
    "arr1, dag1 = generate_dataset_and_dag(5,1000000,2)        "
   ]
  },
  {
   "cell_type": "code",
   "execution_count": 11,
   "metadata": {},
   "outputs": [
    {
     "name": "stdout",
     "output_type": "stream",
     "text": [
      "{1: [(2, 0.4590949461180833)], 2: [], 3: [], 4: [], 5: [(1, 0.05467791121160703), (3, 0.7679515539259062), (4, 0.9280766664604173)]}\n",
      "[1.36003292e-05 6.24384239e-06 1.91016696e-04 2.30845471e-04\n",
      " 2.48735346e-04]\n"
     ]
    }
   ],
   "source": [
    "print(dag1)\n",
    "avg = np.average(arr1,axis=0)\n",
    "print(avg)"
   ]
  },
  {
   "cell_type": "code",
   "execution_count": 12,
   "metadata": {},
   "outputs": [
    {
     "name": "stderr",
     "output_type": "stream",
     "text": [
      "/home/blazej/sumu/sumu/mcmc.py:614: RuntimeWarning: overflow encountered in exp\n",
      "  if np.random.rand() < np.exp(self.temp * sum(R_prime_node_scores) - self.R_score)*q_rev/q:\n"
     ]
    },
    {
     "name": "stdout",
     "output_type": "stream",
     "text": [
      "{3: [(4, 0.9010227391693756)], 0: [(3, 0.05719788354163362), (4, 2.3373481821023856e-13)], 1: [(3, 0.02625925926261313), (4, 1.0876054980084648e-13)], 2: [(3, 0.8033445787106783), (4, 3.3211816460064055e-12)]}\n",
      "{1: [(2, 0.4590949461180833)], 2: [], 3: [], 4: [], 5: [(1, 0.05467791121160703), (3, 0.7679515539259062), (4, 0.9280766664604173)]}\n",
      "27.52322030067444\n"
     ]
    }
   ],
   "source": [
    "start = time.time()\n",
    "data = sumu.Data(arr1, discrete=False)\n",
    "params = {\n",
    "\n",
    "          \"array\": arr1,\n",
    "          \"data\": data,\n",
    "          \"scoref\": \"bge\",  # Or \"bdeu\" for discrete data.\n",
    "          # \"ess\": 10,        # If using BDeu.\n",
    "          \"max_id\": -1,\n",
    "          \"K\": 2,\n",
    "          \"d\": 2,\n",
    "          \"cp_algo\": \"greedy-lite\",\n",
    "          \"mc3_chains\": 10,\n",
    "          \"burn_in\": 100,\n",
    "          \"iterations\": 10000,\n",
    "          \"thinning\": 10}\n",
    "\n",
    "g = sumu.Gadget(**params)\n",
    "dag = g.sample()\n",
    "end = time.time()\n",
    "print(dag)\n",
    "print(dag1)\n",
    "print(end - start)\n"
   ]
  },
  {
   "cell_type": "code",
   "execution_count": null,
   "metadata": {},
   "outputs": [],
   "source": [
    "for x in dag:\n",
    "    if x in dag1:\n",
    "        print('______',x)\n",
    "        print(dag1[x])\n",
    "        print(dag[x])\n",
    "    "
   ]
  },
  {
   "cell_type": "code",
   "execution_count": null,
   "metadata": {},
   "outputs": [],
   "source": []
  }
 ],
 "metadata": {
  "kernelspec": {
   "display_name": "Python 3",
   "language": "python",
   "name": "python3"
  },
  "language_info": {
   "codemirror_mode": {
    "name": "ipython",
    "version": 3
   },
   "file_extension": ".py",
   "mimetype": "text/x-python",
   "name": "python",
   "nbconvert_exporter": "python",
   "pygments_lexer": "ipython3",
   "version": "3.6.9"
  }
 },
 "nbformat": 4,
 "nbformat_minor": 4
}
